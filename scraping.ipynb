{
 "cells": [
  {
   "cell_type": "code",
   "execution_count": 1,
   "metadata": {},
   "outputs": [],
   "source": [
    "from bs4 import BeautifulSoup \n",
    "import requests \n",
    "import csv \n",
    "import pandas as pd"
   ]
  },
  {
   "cell_type": "code",
   "execution_count": 2,
   "metadata": {},
   "outputs": [],
   "source": [
    "# Define the URL of the webpage to scrape\n",
    "url = \"https://editorial.rottentomatoes.com/guide/best-new-movies/\""
   ]
  },
  {
   "cell_type": "code",
   "execution_count": null,
   "metadata": {},
   "outputs": [],
   "source": [
    "# Send a GET request to the specified URL\n",
    "requests.get(url)"
   ]
  },
  {
   "cell_type": "code",
   "execution_count": null,
   "metadata": {},
   "outputs": [],
   "source": [
    "# Send a GET request to the specified URL and retrieve the response text\n",
    "requests.get(url).text"
   ]
  },
  {
   "cell_type": "code",
   "execution_count": 5,
   "metadata": {},
   "outputs": [],
   "source": [
    "website = requests.get(url).text"
   ]
  },
  {
   "cell_type": "code",
   "execution_count": null,
   "metadata": {},
   "outputs": [],
   "source": [
    "website"
   ]
  },
  {
   "cell_type": "code",
   "execution_count": 7,
   "metadata": {},
   "outputs": [],
   "source": [
    "# Parse the HTML content of the webpage using BeautifulSoup with the 'lxml' parser\n",
    "mywebsite = BeautifulSoup(website, \"lxml\")"
   ]
  },
  {
   "cell_type": "code",
   "execution_count": null,
   "metadata": {},
   "outputs": [],
   "source": [
    "type(mywebsite)"
   ]
  },
  {
   "cell_type": "code",
   "execution_count": null,
   "metadata": {},
   "outputs": [],
   "source": [
    "mywebsite.title"
   ]
  },
  {
   "cell_type": "code",
   "execution_count": null,
   "metadata": {},
   "outputs": [],
   "source": [
    "mywebsite.title.text"
   ]
  },
  {
   "cell_type": "code",
   "execution_count": null,
   "metadata": {},
   "outputs": [],
   "source": [
    "# Find the first 'div' element with the class 'row countdown-item' in the parsed HTML\n",
    "film = mywebsite.find(\"div\", class_ = \"row countdown-item\")\n",
    "film"
   ]
  },
  {
   "cell_type": "code",
   "execution_count": null,
   "metadata": {},
   "outputs": [],
   "source": [
    "# Find the 'div' element containing the film's content within the previously found 'film' element\n",
    "div_film = film.find(\"div\", class_ = \"col-sm-18 col-full-xs countdown-item-content\")\n",
    "div_film"
   ]
  },
  {
   "cell_type": "code",
   "execution_count": null,
   "metadata": {},
   "outputs": [],
   "source": [
    "# Extract the film name from the 'h2' element, remove leading/trailing whitespace, and split to get the name\n",
    "film_name = film.find(\"h2\").text.strip().split(\"(\")[0].strip()\n",
    "film_name \n"
   ]
  },
  {
   "cell_type": "code",
   "execution_count": null,
   "metadata": {},
   "outputs": [],
   "source": [
    "# Extract the film rating from the 'h2' element, which is the last word in the text\n",
    "film_rate = film.find(\"h2\").text.strip().split()[-1]\n",
    "film_rate"
   ]
  },
  {
   "cell_type": "code",
   "execution_count": null,
   "metadata": {},
   "outputs": [],
   "source": [
    "# Extract the film year from the 'h2' element by splitting the text and getting the year part\n",
    "film_year = film.find(\"h2\").text.strip().split(\"(\")[1].split(\")\")[0]\n",
    "film_year"
   ]
  },
  {
   "cell_type": "code",
   "execution_count": null,
   "metadata": {},
   "outputs": [],
   "source": [
    "# Find the 'div' element containing the director information within the 'film' element\n",
    "director = film.find(\"div\", class_=\"info director\")\n",
    "director"
   ]
  },
  {
   "cell_type": "code",
   "execution_count": null,
   "metadata": {},
   "outputs": [],
   "source": [
    "# Extract the names of the directors by finding all 'a' elements within the 'director' div and getting their text\n",
    "director_names = [a.text for a in director.find_all(\"a\")]\n",
    "director_names"
   ]
  },
  {
   "cell_type": "code",
   "execution_count": null,
   "metadata": {},
   "outputs": [],
   "source": [
    "# Find all 'div' elements that represent films on the webpage and store them in the 'films' list\n",
    "films = mywebsite.find_all(\"div\", class_ = \"row countdown-item\")\n",
    "films"
   ]
  },
  {
   "cell_type": "code",
   "execution_count": null,
   "metadata": {},
   "outputs": [],
   "source": [
    "# Get the number of film elements found and display it\n",
    "len(films)"
   ]
  },
  {
   "cell_type": "code",
   "execution_count": null,
   "metadata": {},
   "outputs": [],
   "source": [
    "# (This line is redundant since 'films' has already been defined above)\n",
    "films = mywebsite.find_all(\"div\", class_ = \"row countdown-item\")\n",
    "films"
   ]
  },
  {
   "cell_type": "code",
   "execution_count": null,
   "metadata": {},
   "outputs": [],
   "source": [
    "# Iterate over each film element in the 'films' list\n",
    "for filme in films:\n",
    "    # Extract the film name\n",
    "    filme_name = filme.find(\"h2\").text.strip().split(\"(\")[0].strip()\n",
    "    \n",
    "    # Extract the film year\n",
    "    filme_year = filme.find(\"h2\").text.strip().split(\"(\")[1].split(\")\")[0]\n",
    "    \n",
    "    # Extract the film rating\n",
    "    filme_rate = filme.find(\"h2\").text.strip().split()[-1]\n",
    "    \n",
    "    # Find the 'div' element containing the director information within the 'filme' element\n",
    "    director = filme.find(\"div\", class_=\"info director\")\n",
    "    # Extract the names of the directors\n",
    "    director_names = [a.text for a in director.find_all(\"a\")]\n",
    "    \n",
    "    print(filme_name, filme_year, filme_rate, director_names)"
   ]
  },
  {
   "cell_type": "code",
   "execution_count": 22,
   "metadata": {},
   "outputs": [],
   "source": [
    "# Open a new CSV file named \"Data_of_filmes.csv\" for writing, with UTF-8 encoding\n",
    "csv_file = open(\"Data_of_filmes.csv\" , \"w\" , encoding= 'utf-8')\n",
    "\n",
    "# Create a CSV writer object to write to the opened CSV file\n",
    "writer = csv.writer(csv_file)"
   ]
  },
  {
   "cell_type": "code",
   "execution_count": null,
   "metadata": {},
   "outputs": [],
   "source": [
    "# Write the header row to the CSV file with column names\n",
    "writer.writerow(['film name' , 'film year' , 'film rate' , 'director name'])"
   ]
  },
  {
   "cell_type": "code",
   "execution_count": 24,
   "metadata": {},
   "outputs": [],
   "source": [
    "# Write the extracted film information (name, year, rating, and director names) to the CSV file\n",
    "for filme in films :\n",
    "    filme_name = filme.find(\"h2\").text.strip().split(\"(\")[0].strip()\n",
    "    filme_year = filme.find(\"h2\").text.strip().split(\"(\")[1].split(\")\")[0]\n",
    "    filme_rate = filme.find(\"h2\").text.strip().split()[-1]\n",
    "    director = filme.find(\"div\", class_=\"info director\")\n",
    "    director_names = [a.text for a in director.find_all(\"a\")]\n",
    "    writer.writerow([filme_name , filme_year , filme_rate , director_names])\n"
   ]
  },
  {
   "cell_type": "code",
   "execution_count": 25,
   "metadata": {},
   "outputs": [],
   "source": [
    "# Close the CSV file after writing all data\n",
    "csv_file.close()"
   ]
  },
  {
   "cell_type": "code",
   "execution_count": 27,
   "metadata": {},
   "outputs": [],
   "source": [
    "df = pd.read_csv(\"Data_of_filmes.csv\", encoding='utf-8')"
   ]
  },
  {
   "cell_type": "code",
   "execution_count": null,
   "metadata": {},
   "outputs": [],
   "source": [
    "df"
   ]
  },
  {
   "cell_type": "code",
   "execution_count": null,
   "metadata": {},
   "outputs": [],
   "source": [
    "# Find the 'img' tag within the 'film' element that contains the film's image\n",
    "img_tag = film.find(\"div\", class_=\"col-sm-6 col-full-xs\").find(\"img\")\n",
    "\n",
    "# Get the 'src' attribute of the 'img' tag, which contains the image URL\n",
    "img_src = img_tag.get(\"src\")\n",
    "\n",
    "print(img_src)"
   ]
  },
  {
   "cell_type": "code",
   "execution_count": null,
   "metadata": {},
   "outputs": [],
   "source": [
    "# Retrieve all 'img' elements with the class 'article_poster' and store them in 'img_tags'\n",
    "img_tags = mywebsite.find_all(\"img\", class_=\"article_poster\")\n",
    "\n",
    "# Loop through each image tag to extract and print the image URLs\n",
    "for img_tag in img_tags:\n",
    "    try:\n",
    "        img_src = img_tag.get(\"src\")\n",
    "        print(img_src)\n",
    "    except AttributeError:\n",
    "        pass \n",
    "\n",
    "# Find all film elements on the webpage and store them in 'filmes'\n",
    "filmes = mywebsite.find_all(\"div\", class_=\"row countdown-item\")\n",
    "\n",
    "# Loop through each film element to find and download the associated image\n",
    "for filme in filmes:\n",
    "    img_tag = filme.find(\"img\")  # Find the image tag within the film element\n",
    "    \n",
    "    if img_tag:\n",
    "        img_src = img_tag.get(\"src\")\n",
    "        print(img_src)\n",
    "        \n",
    "        response = requests.get(img_src)  # Download the image\n",
    "        path = f\"E:/Git&Github/web_scraping/Web-Scraping/images{filmes.index(filme)}.jpg\"\n",
    "        \n",
    "        with open(path, \"wb\") as image:\n",
    "            image.write(response.content)"
   ]
  },
  {
   "cell_type": "code",
   "execution_count": null,
   "metadata": {},
   "outputs": [],
   "source": []
  }
 ],
 "metadata": {
  "kernelspec": {
   "display_name": "base",
   "language": "python",
   "name": "python3"
  },
  "language_info": {
   "codemirror_mode": {
    "name": "ipython",
    "version": 3
   },
   "file_extension": ".py",
   "mimetype": "text/x-python",
   "name": "python",
   "nbconvert_exporter": "python",
   "pygments_lexer": "ipython3",
   "version": "3.12.4"
  }
 },
 "nbformat": 4,
 "nbformat_minor": 2
}
